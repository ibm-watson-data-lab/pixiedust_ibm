{
 "cells": [
  {
   "cell_type": "markdown",
   "metadata": {},
   "source": [
    "# `Watson ML PixieApp`\n",
    "\n",
    "A helper notebook application to simplify the process of-\n",
    "\n",
    "1. downloading models from a Watson ML service into your notebook.\n",
    "2. publishing models from your notebook into a Watson ML service\n",
    "\n",
    "### Prerequisites\n",
    "\n",
    "- Project ID and Project access token\n",
    "- `project-lib` library\n",
    "\n",
    "\n",
    "#### Project ID and Project access token\n",
    "\n",
    "The recommended approach for accessing project data from the notebook is using the project ID and access token:\n",
    "\n",
    "- In Project Settings, there is **Access Tokens**, where you can generate a new project token\n",
    "- Insert into the notebook using the 3 dots in the action bar, then **Insert project token**\n",
    "\n",
    "#### project-lib module\n",
    "\n",
    "\n",
    "[`project-lib`](https://github.ibm.com/spark-service/project-lib) provides an API to interact with your DSX project and project assets. It can be installed directly from github using `pip` command, but you need to a personal access token\n",
    "\n",
    "- From [github.ibm.com](https://github.ibm.com), go to **Settings > Personal access token** then generate a token\n",
    "- Select **public repo scope**, then hit **generate token**\n",
    "- Use this token to pip install the lib\n",
    "\n",
    "```\n",
    "!pip install git+https://<user_name>:<personal_access_token>@github.ibm.com/spark-service/project-lib.git --ignore-installed\n",
    "```\n"
   ]
  },
  {
   "cell_type": "code",
   "execution_count": null,
   "metadata": {
    "collapsed": true
   },
   "outputs": [],
   "source": [
    "# @hidden_cell\n",
    "\n",
    "# Install project-lib module, setting user_name and personal access token accordingly\n",
    "\n",
    "# !pip install git+https://<user_name>:<personal_access_token>@github.ibm.com/spark-service/project-lib.git --ignore-installed"
   ]
  },
  {
   "cell_type": "code",
   "execution_count": null,
   "metadata": {
    "collapsed": true
   },
   "outputs": [],
   "source": [
    "# Upgrade to latest PixieDust version\n",
    "\n",
    "!pip install --upgrade pixiedust"
   ]
  },
  {
   "cell_type": "code",
   "execution_count": null,
   "metadata": {
    "collapsed": true
   },
   "outputs": [],
   "source": [
    "# Install the module containing the Watson ML PixieApp\n",
    "\n",
    "!pip install --upgrade --user --exists-action=w -e git+https://github.com/ibm-watson-data-lab/pixiedust_ibm.git#egg=pixiedust_ibm\n",
    "\n",
    "# To uninstall the module containing the Watson ML PixieApp\n",
    "\n",
    "# !pip uninstall -y pixiedust_ibm"
   ]
  },
  {
   "cell_type": "markdown",
   "metadata": {},
   "source": [
    "<br/>\n",
    "If the <code>pixiedust</code> or <code>pixiedust_ibm</code> modules had to be installed/updgraded, <strong style=\"color:red\">restart the kernel</strong> before proceeding.  \n",
    "<br/>\n",
    "Set the project ID and access token obtained earlier:\n"
   ]
  },
  {
   "cell_type": "code",
   "execution_count": null,
   "metadata": {
    "collapsed": true
   },
   "outputs": [],
   "source": [
    "# @hidden_cell\n",
    "\n",
    "# Set project ID and access token accordingly\n",
    "\n",
    "# Project ID\n",
    "pid = '...'\n",
    "\n",
    "# Project access token\n",
    "pat = '...'\n"
   ]
  },
  {
   "cell_type": "markdown",
   "metadata": {},
   "source": [
    "<br/>\n",
    "### Import `WMLModel`\n"
   ]
  },
  {
   "cell_type": "code",
   "execution_count": null,
   "metadata": {},
   "outputs": [],
   "source": [
    "from pixiedust_ibm import WMLModel"
   ]
  },
  {
   "cell_type": "markdown",
   "metadata": {},
   "source": [
    "<br/>\n",
    "### Run `WMLModel`\n",
    "\n",
    "Providing the `project_id` and `access_token` which can be passed as parameters or bound as environment variables. `os.environ[\"PROJECT_ID\"]` `os.environ[\"PROJECT_ACCESS_TOKEN\"]`\n"
   ]
  },
  {
   "cell_type": "markdown",
   "metadata": {},
   "source": [
    "#### Passing project ID and access token as parameters"
   ]
  },
  {
   "cell_type": "code",
   "execution_count": null,
   "metadata": {
    "pixiedust": {
     "displayParams": {
      "targetDivId": "dialog07f247d2root"
     }
    }
   },
   "outputs": [],
   "source": [
    "WMLModel({\n",
    "    \"project_id\": pid,\n",
    "    \"access_token\": pat\n",
    "})"
   ]
  },
  {
   "cell_type": "markdown",
   "metadata": {},
   "source": [
    "#### Binding project ID and access token to environment variables"
   ]
  },
  {
   "cell_type": "code",
   "execution_count": null,
   "metadata": {
    "collapsed": true
   },
   "outputs": [],
   "source": [
    "import os\n",
    "\n",
    "if 'PROJECT_ID' not in os.environ:\n",
    "    os.environ['PROJECT_ID'] = pid\n",
    "if 'PROJECT_ACCESS_TOKEN' not in os.environ:\n",
    "    os.environ['PROJECT_ACCESS_TOKEN'] = pat\n",
    "\n",
    "# print os.environ['PROJECT_ID']\n",
    "# print os.environ['PROJECT_ACCESS_TOKEN']"
   ]
  },
  {
   "cell_type": "code",
   "execution_count": null,
   "metadata": {
    "pixiedust": {
     "displayParams": {
      "targetDivId": "dialog3e512f22root"
     }
    }
   },
   "outputs": [],
   "source": [
    "WMLModel()"
   ]
  },
  {
   "cell_type": "markdown",
   "metadata": {},
   "source": [
    "<br/>\n",
    "### `helpers`\n",
    "\n",
    "To simplify the process for those who already know what they have and what they want to do. A few helper methods are available.\n",
    "\n",
    "- `listWMLModels(credentials)` - list all Watson ML models found  \n",
    "- `downloadWMLModel(modelNameOrUID, serviceNameOrGUID, credentials)` - download and return the named model from the named service\n",
    "- `publishWMLModel(model, modelName, serviceNameOrGUID, credentials)` - publish the given model (using the name provided) to the named service\n",
    "\n",
    "Credentials (`project_id` and `access_token`) can be passed as parameters or bound as environment variables\n"
   ]
  },
  {
   "cell_type": "markdown",
   "metadata": {},
   "source": [
    "<br/>\n",
    "### Import the `helpers`\n"
   ]
  },
  {
   "cell_type": "code",
   "execution_count": null,
   "metadata": {
    "collapsed": true
   },
   "outputs": [],
   "source": [
    "from pixiedust_ibm import listWMLModels, downloadWMLModel, publishWMLModel"
   ]
  },
  {
   "cell_type": "markdown",
   "metadata": {},
   "source": [
    "<hr>\n",
    "### Run the `helpers`\n",
    "\n",
    "Providing the `project_id` and `access_token` which can be passed as parameters or bound as environment variables. `os.environ[\"PROJECT_ID\"]` `os.environ[\"PROJECT_ACCESS_TOKEN\"]`"
   ]
  },
  {
   "cell_type": "markdown",
   "metadata": {},
   "source": [
    "#### list the Watson ML models"
   ]
  },
  {
   "cell_type": "code",
   "execution_count": null,
   "metadata": {},
   "outputs": [],
   "source": [
    "listWMLModels()"
   ]
  },
  {
   "cell_type": "markdown",
   "metadata": {},
   "source": [
    "#### download a model into the notebook"
   ]
  },
  {
   "cell_type": "code",
   "execution_count": null,
   "metadata": {},
   "outputs": [],
   "source": [
    "mymodel = downloadWMLModel('Handwritten Digits Recognition', 'va-bm-ml')\n",
    "# mymodel"
   ]
  },
  {
   "cell_type": "markdown",
   "metadata": {},
   "source": [
    "#### publish a model to the Watson ML service"
   ]
  },
  {
   "cell_type": "code",
   "execution_count": null,
   "metadata": {},
   "outputs": [],
   "source": [
    "mymodel2 = publishWMLModel(mymodel, 'mymodel2', 'va-bm-ml')\n",
    "# mymodel2\n",
    "listWMLModels()"
   ]
  },
  {
   "cell_type": "markdown",
   "metadata": {
    "collapsed": true
   },
   "source": [
    " "
   ]
  }
 ],
 "metadata": {
  "anaconda-cloud": {},
  "kernelspec": {
   "display_name": "Python 2 with Spark 2.1",
   "language": "python",
   "name": "python2-spark21"
  },
  "language_info": {
   "codemirror_mode": {
    "name": "ipython",
    "version": 2
   },
   "file_extension": ".py",
   "mimetype": "text/x-python",
   "name": "python",
   "nbconvert_exporter": "python",
   "pygments_lexer": "ipython2",
   "version": "2.7.11"
  }
 },
 "nbformat": 4,
 "nbformat_minor": 1
}
